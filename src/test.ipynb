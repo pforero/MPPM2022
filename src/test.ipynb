{
 "cells": [
  {
   "cell_type": "markdown",
   "metadata": {},
   "source": [
    "# Test"
   ]
  },
  {
   "cell_type": "code",
   "execution_count": 1,
   "metadata": {},
   "outputs": [],
   "source": [
    "import os\n",
    "import sys\n",
    "module_path = os.path.abspath(os.path.join('..'))\n",
    "if module_path not in sys.path:\n",
    "    sys.path.append(module_path)"
   ]
  },
  {
   "cell_type": "code",
   "execution_count": 2,
   "metadata": {},
   "outputs": [],
   "source": [
    "import numpy as np\n",
    "\n",
    "from itertools import permutations, product, combinations\n",
    "\n",
    "from scipy.optimize import minimize"
   ]
  },
  {
   "cell_type": "code",
   "execution_count": 3,
   "metadata": {},
   "outputs": [],
   "source": [
    "from mppm.optimization.probabilities.team_prob import *\n",
    "from mppm.optimization.probabilities.group_probabilities import GroupProbabilities\n",
    "from mppm.optimization.probabilities.octavo_probabilities import OctavoProbabilities\n",
    "from mppm.optimization.probabilities.quarter_probabilities import QuarterProbabilities\n",
    "from mppm.optimization.probabilities.semi_probabilities import SemiProbabilities\n",
    "from mppm.optimization.probabilities.final_probabilities import FinalProbabilities"
   ]
  },
  {
   "cell_type": "code",
   "execution_count": 4,
   "metadata": {},
   "outputs": [],
   "source": [
    "from mppm.porra.outcome import Outcome, Result\n",
    "from mppm.porra.helper import GROUPS\n",
    "from mppm.qatar.progression import QatarProgression\n",
    "from mppm.qatar.scoring import QatarScoring"
   ]
  },
  {
   "cell_type": "code",
   "execution_count": 5,
   "metadata": {},
   "outputs": [],
   "source": [
    "GroupA = GroupProbabilities(\n",
    "    QATAR,\n",
    "    ECUADOR,\n",
    "    SENEGAL,\n",
    "    NETHERLANDS\n",
    ")"
   ]
  },
  {
   "cell_type": "code",
   "execution_count": 6,
   "metadata": {},
   "outputs": [],
   "source": [
    "GroupB = GroupProbabilities(\n",
    "    ENGLAND,\n",
    "    IRAN,\n",
    "    USA,\n",
    "    WALES\n",
    ")"
   ]
  },
  {
   "cell_type": "code",
   "execution_count": 7,
   "metadata": {},
   "outputs": [],
   "source": [
    "GroupC = GroupProbabilities(\n",
    "    ARGENTINA,\n",
    "    SAUDI_ARABIA,\n",
    "    MEXICO,\n",
    "    POLAND\n",
    ")"
   ]
  },
  {
   "cell_type": "code",
   "execution_count": 8,
   "metadata": {},
   "outputs": [],
   "source": [
    "GroupD = GroupProbabilities(\n",
    "    FRANCE,\n",
    "    DENMARK,\n",
    "    TUNISIA,\n",
    "    AUSTRALIA\n",
    ")"
   ]
  },
  {
   "cell_type": "code",
   "execution_count": 9,
   "metadata": {},
   "outputs": [],
   "source": [
    "GroupE = GroupProbabilities(\n",
    "    SPAIN,\n",
    "    GERMANY,\n",
    "    JAPAN,\n",
    "    COSTA_RICA\n",
    ")"
   ]
  },
  {
   "cell_type": "code",
   "execution_count": 10,
   "metadata": {},
   "outputs": [],
   "source": [
    "GroupF = GroupProbabilities(\n",
    "    BELGIUM,\n",
    "    CANADA,\n",
    "    MOROCCO,\n",
    "    CROATIA\n",
    ")"
   ]
  },
  {
   "cell_type": "code",
   "execution_count": 11,
   "metadata": {},
   "outputs": [],
   "source": [
    "GroupG = GroupProbabilities(\n",
    "    BRAZIL,\n",
    "    SERBIA,\n",
    "    SWITZERLAND,\n",
    "    CAMEROON\n",
    ")"
   ]
  },
  {
   "cell_type": "code",
   "execution_count": 12,
   "metadata": {},
   "outputs": [],
   "source": [
    "GroupH = GroupProbabilities(\n",
    "    PORTUGAL,\n",
    "    GHANA,\n",
    "    URUGUAY,\n",
    "    SOUTH_KOREA\n",
    ")"
   ]
  },
  {
   "cell_type": "code",
   "execution_count": 13,
   "metadata": {},
   "outputs": [],
   "source": [
    "Oct1 = OctavoProbabilities(\n",
    "    GroupA,\n",
    "    GroupB\n",
    ")"
   ]
  },
  {
   "cell_type": "code",
   "execution_count": 14,
   "metadata": {},
   "outputs": [],
   "source": [
    "Oct2 = OctavoProbabilities(\n",
    "    GroupC,\n",
    "    GroupD\n",
    ")"
   ]
  },
  {
   "cell_type": "code",
   "execution_count": 15,
   "metadata": {},
   "outputs": [],
   "source": [
    "Oct3 = OctavoProbabilities(\n",
    "    GroupE,\n",
    "    GroupF\n",
    ")"
   ]
  },
  {
   "cell_type": "code",
   "execution_count": 16,
   "metadata": {},
   "outputs": [],
   "source": [
    "Oct4 = OctavoProbabilities(\n",
    "    GroupG,\n",
    "    GroupH\n",
    ")"
   ]
  },
  {
   "cell_type": "code",
   "execution_count": 17,
   "metadata": {},
   "outputs": [],
   "source": [
    "QF1 = QuarterProbabilities(\n",
    "    Oct1,\n",
    "    Oct2\n",
    ")"
   ]
  },
  {
   "cell_type": "code",
   "execution_count": 18,
   "metadata": {},
   "outputs": [],
   "source": [
    "QF2 = QuarterProbabilities(\n",
    "    Oct3,\n",
    "    Oct4\n",
    ")"
   ]
  },
  {
   "cell_type": "code",
   "execution_count": 19,
   "metadata": {},
   "outputs": [],
   "source": [
    "SF = SemiProbabilities(QF1, QF2)"
   ]
  },
  {
   "cell_type": "code",
   "execution_count": 20,
   "metadata": {},
   "outputs": [],
   "source": [
    "F = FinalProbabilities(SF)"
   ]
  },
  {
   "cell_type": "code",
   "execution_count": 21,
   "metadata": {},
   "outputs": [],
   "source": [
    "RedA = {key: val for key, val in GroupA.group_probabilities().items() if val > 0.105}\n",
    "RedB = {key: val for key, val in GroupB.group_probabilities().items() if val > 0.105}\n",
    "RedC = {key: val for key, val in GroupC.group_probabilities().items() if val > 0.105}\n",
    "RedD = {key: val for key, val in GroupD.group_probabilities().items() if val > 0.105}\n",
    "RedE = {key: val for key, val in GroupE.group_probabilities().items() if val > 0.105}\n",
    "RedF = {key: val for key, val in GroupF.group_probabilities().items() if val > 0.105}\n",
    "RedG = {key: val for key, val in GroupG.group_probabilities().items() if val > 0.105}\n",
    "RedH = {key: val for key, val in GroupH.group_probabilities().items() if val > 0.105}"
   ]
  },
  {
   "cell_type": "code",
   "execution_count": 22,
   "metadata": {},
   "outputs": [],
   "source": [
    "GR = [x for x in product(\n",
    "    RedA.keys(),\n",
    "    RedB.keys(),\n",
    "    RedC.keys(),\n",
    "    RedD.keys(),\n",
    "    RedE.keys(),\n",
    "    RedF.keys(),\n",
    "    RedG.keys(),\n",
    "    RedH.keys()\n",
    ")]"
   ]
  },
  {
   "cell_type": "code",
   "execution_count": 67,
   "metadata": {},
   "outputs": [
    {
     "data": {
      "text/plain": [
       "1536"
      ]
     },
     "execution_count": 67,
     "metadata": {},
     "output_type": "execute_result"
    }
   ],
   "source": [
    "len(GR)"
   ]
  },
  {
   "cell_type": "code",
   "execution_count": 24,
   "metadata": {},
   "outputs": [],
   "source": [
    "OCT = [x for x in product(range(0, 2), repeat=8)]"
   ]
  },
  {
   "cell_type": "code",
   "execution_count": 25,
   "metadata": {},
   "outputs": [],
   "source": [
    "QUART = [x for x in product(range(0, 2), repeat=4)]"
   ]
  },
  {
   "cell_type": "code",
   "execution_count": 26,
   "metadata": {},
   "outputs": [],
   "source": [
    "SEMI = [x for x in product(range(0, 2), repeat=2)]"
   ]
  },
  {
   "cell_type": "code",
   "execution_count": 27,
   "metadata": {},
   "outputs": [],
   "source": [
    "FIN = [x for x in product(range(0, 2), repeat=1)]"
   ]
  },
  {
   "cell_type": "code",
   "execution_count": 28,
   "metadata": {},
   "outputs": [],
   "source": [
    "ALL = [Result(\n",
    "        groups={letter: list(res) for letter, res in zip(GROUPS, x[0])},\n",
    "        octavos=list(x[1]),\n",
    "        quarter=list(x[2]),\n",
    "        semi=list(x[3]),\n",
    "        final=list(x[4])\n",
    "    ) for x in product(\n",
    "    product(\n",
    "        RedA.keys(),\n",
    "        RedB.keys(),\n",
    "        RedC.keys(),\n",
    "        RedD.keys(),\n",
    "        RedE.keys(),\n",
    "        RedF.keys(),\n",
    "        RedG.keys(),\n",
    "        RedH.keys()\n",
    "    ),\n",
    "    product(range(0, 2), repeat=8),\n",
    "    product(range(0, 2), repeat=4),\n",
    "    product(range(0, 2), repeat=2),\n",
    "    product(range(0, 2), repeat=2)\n",
    ")]"
   ]
  },
  {
   "cell_type": "code",
   "execution_count": 30,
   "metadata": {},
   "outputs": [
    {
     "data": {
      "text/plain": [
       "33554432"
      ]
     },
     "execution_count": 30,
     "metadata": {},
     "output_type": "execute_result"
    }
   ],
   "source": [
    "len(ALL)"
   ]
  },
  {
   "cell_type": "code",
   "execution_count": 23,
   "metadata": {},
   "outputs": [],
   "source": [
    "JUST_GROUPS = [Result(\n",
    "        groups={letter: list(res) for letter, res in zip(GROUPS, x)},\n",
    "        octavos=[0]*8,\n",
    "        quarter=[0]*4,\n",
    "        semi=[0]*2,\n",
    "        final=[0]*2\n",
    "    ) for x in product(\n",
    "        RedA.keys(),\n",
    "        RedB.keys(),\n",
    "        RedC.keys(),\n",
    "        RedD.keys(),\n",
    "        RedE.keys(),\n",
    "        RedF.keys(),\n",
    "        RedG.keys(),\n",
    "        RedH.keys()\n",
    "    )]"
   ]
  },
  {
   "cell_type": "code",
   "execution_count": 24,
   "metadata": {},
   "outputs": [
    {
     "data": {
      "text/plain": [
       "1536"
      ]
     },
     "execution_count": 24,
     "metadata": {},
     "output_type": "execute_result"
    }
   ],
   "source": [
    "len(JUST_GROUPS)"
   ]
  },
  {
   "cell_type": "code",
   "execution_count": 70,
   "metadata": {},
   "outputs": [],
   "source": [
    "ALL_RED = [RedA, RedB, RedC, RedD, RedE, RedF, RedG, RedH]\n",
    "\n",
    "Prob = {\n",
    "    x: np.array([group[key] for group, key in zip(ALL_RED, x)]).prod() for x in product(\n",
    "        RedA.keys(),\n",
    "        RedB.keys(),\n",
    "        RedC.keys(),\n",
    "        RedD.keys(),\n",
    "        RedE.keys(),\n",
    "        RedF.keys(),\n",
    "        RedG.keys(),\n",
    "        RedH.keys()\n",
    "    )\n",
    "}"
   ]
  },
  {
   "cell_type": "code",
   "execution_count": 71,
   "metadata": {},
   "outputs": [],
   "source": [
    "res = {}\n",
    "for bet in JUST_GROUPS:\n",
    "    res[bet] = [\n",
    "        Outcome(QatarProgression, bet, final, QatarScoring).get_group_points() for final in JUST_GROUPS\n",
    "    ]"
   ]
  },
  {
   "cell_type": "code",
   "execution_count": 72,
   "metadata": {},
   "outputs": [],
   "source": [
    "pr = np.array([pr for pr in Prob.values()])\n",
    "\n",
    "expected = np.array([\n",
    "    np.multiply(pr, np.array(points)) for points in res.values()\n",
    "])"
   ]
  },
  {
   "cell_type": "code",
   "execution_count": 73,
   "metadata": {},
   "outputs": [],
   "source": [
    "import pandas as pd"
   ]
  },
  {
   "cell_type": "code",
   "execution_count": 74,
   "metadata": {},
   "outputs": [],
   "source": [
    "df = pd.DataFrame(expected)"
   ]
  },
  {
   "cell_type": "code",
   "execution_count": 75,
   "metadata": {},
   "outputs": [],
   "source": [
    "max_score = {}\n",
    "\n",
    "for i, row in df.iterrows():\n",
    "    max_score[i] = df.apply(lambda x: np.maximum(row, x), axis=1).sum(axis=1).max()"
   ]
  },
  {
   "cell_type": "code",
   "execution_count": 77,
   "metadata": {},
   "outputs": [
    {
     "data": {
      "text/html": [
       "<div>\n",
       "<style scoped>\n",
       "    .dataframe tbody tr th:only-of-type {\n",
       "        vertical-align: middle;\n",
       "    }\n",
       "\n",
       "    .dataframe tbody tr th {\n",
       "        vertical-align: top;\n",
       "    }\n",
       "\n",
       "    .dataframe thead th {\n",
       "        text-align: right;\n",
       "    }\n",
       "</style>\n",
       "<table border=\"1\" class=\"dataframe\">\n",
       "  <thead>\n",
       "    <tr style=\"text-align: right;\">\n",
       "      <th></th>\n",
       "      <th>0</th>\n",
       "    </tr>\n",
       "  </thead>\n",
       "  <tbody>\n",
       "    <tr>\n",
       "      <th>1079</th>\n",
       "      <td>0.317002</td>\n",
       "    </tr>\n",
       "    <tr>\n",
       "      <th>887</th>\n",
       "      <td>0.317017</td>\n",
       "    </tr>\n",
       "    <tr>\n",
       "      <th>1078</th>\n",
       "      <td>0.317039</td>\n",
       "    </tr>\n",
       "    <tr>\n",
       "      <th>886</th>\n",
       "      <td>0.317055</td>\n",
       "    </tr>\n",
       "    <tr>\n",
       "      <th>1077</th>\n",
       "      <td>0.317081</td>\n",
       "    </tr>\n",
       "    <tr>\n",
       "      <th>...</th>\n",
       "      <td>...</td>\n",
       "    </tr>\n",
       "    <tr>\n",
       "      <th>461</th>\n",
       "      <td>0.325792</td>\n",
       "    </tr>\n",
       "    <tr>\n",
       "      <th>775</th>\n",
       "      <td>0.325796</td>\n",
       "    </tr>\n",
       "    <tr>\n",
       "      <th>652</th>\n",
       "      <td>0.325796</td>\n",
       "    </tr>\n",
       "    <tr>\n",
       "      <th>460</th>\n",
       "      <td>0.325799</td>\n",
       "    </tr>\n",
       "    <tr>\n",
       "      <th>967</th>\n",
       "      <td>0.325799</td>\n",
       "    </tr>\n",
       "  </tbody>\n",
       "</table>\n",
       "<p>1536 rows × 1 columns</p>\n",
       "</div>"
      ],
      "text/plain": [
       "             0\n",
       "1079  0.317002\n",
       "887   0.317017\n",
       "1078  0.317039\n",
       "886   0.317055\n",
       "1077  0.317081\n",
       "...        ...\n",
       "461   0.325792\n",
       "775   0.325796\n",
       "652   0.325796\n",
       "460   0.325799\n",
       "967   0.325799\n",
       "\n",
       "[1536 rows x 1 columns]"
      ]
     },
     "execution_count": 77,
     "metadata": {},
     "output_type": "execute_result"
    }
   ],
   "source": [
    "pd.DataFrame.from_dict(max_score, orient=\"index\").sort_values(by=0)"
   ]
  },
  {
   "cell_type": "code",
   "execution_count": 80,
   "metadata": {},
   "outputs": [
    {
     "data": {
      "text/plain": [
       "0       0.294835\n",
       "1       0.306026\n",
       "2       0.306100\n",
       "3       0.306167\n",
       "4       0.309423\n",
       "          ...   \n",
       "1531    0.317571\n",
       "1532    0.313601\n",
       "1533    0.314426\n",
       "1534    0.314477\n",
       "1535    0.315908\n",
       "Length: 1536, dtype: float64"
      ]
     },
     "execution_count": 80,
     "metadata": {},
     "output_type": "execute_result"
    }
   ],
   "source": [
    "df.apply(lambda x: np.maximum(df.loc[0], x), axis=1).sum(axis=1)"
   ]
  },
  {
   "cell_type": "code",
   "execution_count": 97,
   "metadata": {},
   "outputs": [
    {
     "data": {
      "text/plain": [
       "{'A': [3, 1, 2, 0],\n",
       " 'B': [0, 3, 2, 1],\n",
       " 'C': [0, 3, 2, 1],\n",
       " 'D': [0, 1, 3, 2],\n",
       " 'E': [1, 0, 2, 3],\n",
       " 'F': [0, 3, 2, 1],\n",
       " 'G': [0, 1, 2, 3],\n",
       " 'H': [0, 2, 1, 3]}"
      ]
     },
     "execution_count": 97,
     "metadata": {},
     "output_type": "execute_result"
    }
   ],
   "source": [
    "JUST_GROUPS[652].groups"
   ]
  },
  {
   "cell_type": "code",
   "execution_count": 82,
   "metadata": {},
   "outputs": [
    {
     "data": {
      "text/plain": [
       "{'A': [3, 2, 1, 0],\n",
       " 'B': [0, 3, 1, 2],\n",
       " 'C': [0, 3, 2, 1],\n",
       " 'D': [0, 1, 2, 3],\n",
       " 'E': [0, 1, 2, 3],\n",
       " 'F': [0, 3, 2, 1],\n",
       " 'G': [0, 2, 1, 3],\n",
       " 'H': [0, 3, 1, 2]}"
      ]
     },
     "execution_count": 82,
     "metadata": {},
     "output_type": "execute_result"
    }
   ],
   "source": [
    "JUST_GROUPS[967].groups"
   ]
  },
  {
   "cell_type": "code",
   "execution_count": 25,
   "metadata": {},
   "outputs": [],
   "source": [
    "pilli = JUST_GROUPS[967]\n",
    "pablo = JUST_GROUPS[460]"
   ]
  },
  {
   "cell_type": "code",
   "execution_count": 101,
   "metadata": {},
   "outputs": [],
   "source": [
    "oct1_prob  =Oct1.get_cond_prob()\n",
    "oct2_prob  =Oct2.get_cond_prob()\n",
    "oct3_prob  =Oct3.get_cond_prob()\n",
    "oct4_prob  =Oct4.get_cond_prob()"
   ]
  },
  {
   "cell_type": "code",
   "execution_count": 111,
   "metadata": {},
   "outputs": [
    {
     "name": "stdout",
     "output_type": "stream",
     "text": [
      "0.6804911472631622\n",
      "0.3197859302167745\n",
      "0.6804911472631622\n",
      "0.3197859302167745\n"
     ]
    }
   ],
   "source": [
    "print(oct1_prob[(pilli.groups[\"A\"][0], pilli.groups[\"B\"][1], 0)])\n",
    "print(oct1_prob[(pilli.groups[\"A\"][0], pilli.groups[\"B\"][1], 1)])\n",
    "print(oct1_prob[(pablo.groups[\"A\"][0], pablo.groups[\"B\"][1], 0)])\n",
    "print(oct1_prob[(pablo.groups[\"A\"][0], pablo.groups[\"B\"][1], 1)])"
   ]
  },
  {
   "cell_type": "code",
   "execution_count": 112,
   "metadata": {},
   "outputs": [
    {
     "name": "stdout",
     "output_type": "stream",
     "text": [
      "0.31482848661343926\n",
      "0.6855937659352296\n",
      "0.2819245683350071\n",
      "0.7184328087247658\n"
     ]
    }
   ],
   "source": [
    "print(oct1_prob[(pilli.groups[\"A\"][1], pilli.groups[\"B\"][0], 0)])\n",
    "print(oct1_prob[(pilli.groups[\"A\"][1], pilli.groups[\"B\"][0], 1)])\n",
    "print(oct1_prob[(pablo.groups[\"A\"][1], pablo.groups[\"B\"][0], 0)])\n",
    "print(oct1_prob[(pablo.groups[\"A\"][1], pablo.groups[\"B\"][0], 1)])"
   ]
  },
  {
   "cell_type": "code",
   "execution_count": 113,
   "metadata": {},
   "outputs": [
    {
     "name": "stdout",
     "output_type": "stream",
     "text": [
      "0.6677325235287821\n",
      "0.3322674478958121\n",
      "0.6677325235287821\n",
      "0.3322674478958121\n"
     ]
    }
   ],
   "source": [
    "print(oct2_prob[(pilli.groups[\"C\"][0], pilli.groups[\"D\"][1], 0)])\n",
    "print(oct2_prob[(pilli.groups[\"C\"][0], pilli.groups[\"D\"][1], 1)])\n",
    "print(oct2_prob[(pablo.groups[\"C\"][0], pablo.groups[\"D\"][1], 0)])\n",
    "print(oct2_prob[(pablo.groups[\"C\"][0], pablo.groups[\"D\"][1], 1)])"
   ]
  },
  {
   "cell_type": "code",
   "execution_count": 114,
   "metadata": {},
   "outputs": [
    {
     "name": "stdout",
     "output_type": "stream",
     "text": [
      "0.25858627035693776\n",
      "0.7414137233389706\n",
      "0.25858627035693776\n",
      "0.7414137233389706\n"
     ]
    }
   ],
   "source": [
    "print(oct2_prob[(pilli.groups[\"C\"][1], pilli.groups[\"D\"][0], 0)])\n",
    "print(oct2_prob[(pilli.groups[\"C\"][1], pilli.groups[\"D\"][0], 1)])\n",
    "print(oct2_prob[(pablo.groups[\"C\"][1], pablo.groups[\"D\"][0], 0)])\n",
    "print(oct2_prob[(pablo.groups[\"C\"][1], pablo.groups[\"D\"][0], 1)])"
   ]
  },
  {
   "cell_type": "code",
   "execution_count": 115,
   "metadata": {},
   "outputs": [
    {
     "name": "stdout",
     "output_type": "stream",
     "text": [
      "0.6310913274043854\n",
      "0.3689142053660166\n",
      "0.6202398421971341\n",
      "0.3797669114723015\n"
     ]
    }
   ],
   "source": [
    "print(oct3_prob[(pilli.groups[\"E\"][0], pilli.groups[\"F\"][1], 0)])\n",
    "print(oct3_prob[(pilli.groups[\"E\"][0], pilli.groups[\"F\"][1], 1)])\n",
    "print(oct3_prob[(pablo.groups[\"E\"][0], pablo.groups[\"F\"][1], 0)])\n",
    "print(oct3_prob[(pablo.groups[\"E\"][0], pablo.groups[\"F\"][1], 1)])"
   ]
  },
  {
   "cell_type": "code",
   "execution_count": 116,
   "metadata": {},
   "outputs": [
    {
     "name": "stdout",
     "output_type": "stream",
     "text": [
      "0.5509841264302957\n",
      "0.4490165404923934\n",
      "0.550041143643308\n",
      "0.4499573370985844\n"
     ]
    }
   ],
   "source": [
    "print(oct3_prob[(pilli.groups[\"E\"][1], pilli.groups[\"F\"][0], 0)])\n",
    "print(oct3_prob[(pilli.groups[\"E\"][1], pilli.groups[\"F\"][0], 1)])\n",
    "print(oct3_prob[(pablo.groups[\"E\"][1], pablo.groups[\"F\"][0], 0)])\n",
    "print(oct3_prob[(pablo.groups[\"E\"][1], pablo.groups[\"F\"][0], 1)])"
   ]
  },
  {
   "cell_type": "code",
   "execution_count": 117,
   "metadata": {},
   "outputs": [
    {
     "name": "stdout",
     "output_type": "stream",
     "text": [
      "0.8380762899801646\n",
      "0.161923655551594\n",
      "0.7210860506137896\n",
      "0.27891399232608266\n"
     ]
    }
   ],
   "source": [
    "print(oct4_prob[(pilli.groups[\"G\"][0], pilli.groups[\"H\"][1], 0)])\n",
    "print(oct4_prob[(pilli.groups[\"G\"][0], pilli.groups[\"H\"][1], 1)])\n",
    "print(oct4_prob[(pablo.groups[\"G\"][0], pablo.groups[\"H\"][1], 0)])\n",
    "print(oct4_prob[(pablo.groups[\"G\"][0], pablo.groups[\"H\"][1], 1)])"
   ]
  },
  {
   "cell_type": "code",
   "execution_count": 118,
   "metadata": {},
   "outputs": [
    {
     "name": "stdout",
     "output_type": "stream",
     "text": [
      "0.3661158607048974\n",
      "0.6338841362339417\n",
      "0.3830697876549965\n",
      "0.6169301813706728\n"
     ]
    }
   ],
   "source": [
    "print(oct4_prob[(pilli.groups[\"G\"][1], pilli.groups[\"H\"][0], 0)])\n",
    "print(oct4_prob[(pilli.groups[\"G\"][1], pilli.groups[\"H\"][0], 1)])\n",
    "print(oct4_prob[(pablo.groups[\"G\"][1], pablo.groups[\"H\"][0], 0)])\n",
    "print(oct4_prob[(pablo.groups[\"G\"][1], pablo.groups[\"H\"][0], 1)])"
   ]
  },
  {
   "cell_type": "code",
   "execution_count": 41,
   "metadata": {},
   "outputs": [],
   "source": [
    "qf1_prob = QF1.get_cond_prob()\n",
    "qf2_prob = QF2.get_cond_prob()"
   ]
  },
  {
   "cell_type": "code",
   "execution_count": 38,
   "metadata": {},
   "outputs": [
    {
     "name": "stdout",
     "output_type": "stream",
     "text": [
      "0.3975604486505789\n",
      "0.6025613840326187\n",
      "0.60002193103271\n",
      "0.4000360703245891\n"
     ]
    }
   ],
   "source": [
    "print(qf1_prob[(3, 0, 0)])\n",
    "print(qf1_prob[(3, 0, 1)])\n",
    "print(qf1_prob[(3, 5, 0)])\n",
    "print(qf1_prob[(3, 5, 1)])"
   ]
  },
  {
   "cell_type": "code",
   "execution_count": 40,
   "metadata": {},
   "outputs": [
    {
     "name": "stdout",
     "output_type": "stream",
     "text": [
      "0.478868659119723\n",
      "0.5213841397917961\n",
      "0.478868659119723\n",
      "0.5213841397917961\n"
     ]
    }
   ],
   "source": [
    "print(qf1_prob[(4, 4, 0)])\n",
    "print(qf1_prob[(4, 4, 1)])\n",
    "print(qf1_prob[(4, 4, 0)])\n",
    "print(qf1_prob[(4, 4, 1)])"
   ]
  },
  {
   "cell_type": "code",
   "execution_count": 42,
   "metadata": {},
   "outputs": [
    {
     "name": "stdout",
     "output_type": "stream",
     "text": [
      "0.5300763683923103\n",
      "0.4699095091655724\n"
     ]
    }
   ],
   "source": [
    "print(qf2_prob[(4, 4, 0)])\n",
    "print(qf2_prob[(4, 4, 1)])"
   ]
  },
  {
   "cell_type": "code",
   "execution_count": null,
   "metadata": {},
   "outputs": [],
   "source": []
  }
 ],
 "metadata": {
  "kernelspec": {
   "display_name": "Python 3.10.6 ('mppm')",
   "language": "python",
   "name": "python3"
  },
  "language_info": {
   "codemirror_mode": {
    "name": "ipython",
    "version": 3
   },
   "file_extension": ".py",
   "mimetype": "text/x-python",
   "name": "python",
   "nbconvert_exporter": "python",
   "pygments_lexer": "ipython3",
   "version": "3.10.6"
  },
  "orig_nbformat": 4,
  "vscode": {
   "interpreter": {
    "hash": "7a3b74124478cdc4dc99787bd34bf544cc18a182757fa93ea2fed8d7ab27003a"
   }
  }
 },
 "nbformat": 4,
 "nbformat_minor": 2
}
